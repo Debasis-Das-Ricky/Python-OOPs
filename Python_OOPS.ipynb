{
  "nbformat": 4,
  "nbformat_minor": 0,
  "metadata": {
    "colab": {
      "provenance": []
    },
    "kernelspec": {
      "name": "python3",
      "display_name": "Python 3"
    },
    "language_info": {
      "name": "python"
    }
  },
  "cells": [
    {
      "cell_type": "markdown",
      "source": [
        "# Python OOPS (Theoretical)"
      ],
      "metadata": {
        "id": "OxEVsR9Jjv1n"
      }
    },
    {
      "cell_type": "markdown",
      "source": [
        "\n",
        "\n",
        "1. What is Object-Oriented Programming (OOP)?\n",
        "  -\tObject-Oriented Programming (OOP) is a way of writing programs using objects. Objects are created from classes and help to group data and functions together. It makes the code easy to understand, reuse, and manage.\n",
        "\n",
        "2. What is a class in OOP?\n",
        "  - A class in OOP is a blueprint or template used to create objects. It defines the data (variables) and functions (methods) that the objects will have.\n",
        "\n",
        "3. What is an object in OOP?\n",
        "  - An object is a real-world entity created from a class. It has data (called attributes) and functions (called methods) defined by the class. Each object can use the class features separately.\n",
        "\n",
        "4. What is the difference between abstraction and encapsulation?\n",
        "  - Abstraction means hiding the complex details and showing only the important parts to the user. Encapsulation means wrapping data and methods together in a class to protect the data from outside access. In short, abstraction hides details, and encapsulation hides data.\n",
        "\n",
        "5. What are dunder methods in Python?\n",
        "  - Dunder methods in Python are special methods that start and end with double underscores (like __init__() or __str__()). They are used to define the behaviour of objects, such as when creating or printing them. \"Dunder\" means \"double underscore\".\n",
        "\n",
        "6. Explain the concept of inheritance in OOP.\n",
        "  - Inheritance in OOP means one class (called child or subclass) can use the features (like data and methods) of another class (called parent or superclass). It helps in code reusability and makes the program easier to manage.\n",
        "\n",
        "7. What is polymorphism in OOP?\n",
        "  - Polymorphism in OOP means one function or method can work in different ways depending on the object. It allows the same name to be used for different types of actions, making code flexible and reusable.\n",
        "\n",
        "8. How is encapsulation achieved in Python?\n",
        "  - Encapsulation in Python is achieved by using classes to wrap data and methods together. We use private variables (by adding _ or __ before the name) to hide the data, and access it using getter and setter methods.\n",
        "\n",
        "9. What is a constructor in Python?\n",
        "  - A constructor in Python is a special method called __init__() that is used to create and initialize an object when it is made from a class. It sets the initial values of the object.\n",
        "\n",
        "10.\tWhat are class and static methods in Python?\n",
        "  - A class method is a method that works with the class itself, not just objects. It uses @classmethod and takes cls as the first argument. A static method does not depend on the class or object. It uses @staticmethod and has no self or cls. It is used to write utility functions inside the class.\n",
        "\n",
        "11.\tWhat is method overloading in Python?\n",
        "  - Method overloading in Python means defining multiple methods with the same name but with different numbers or types of arguments. However, Python does not support true method overloading like some other languages. Instead, we can use default arguments or *args and **kwargs to achieve similar behavior.\n",
        "\n",
        "12.\tWhat is method overriding in OOP?\n",
        "  - Method overriding in OOP means a child class provides a new version of a method that is already defined in the parent class. It helps to change or extend the behavior of the inherited method.\n",
        "\n",
        "13.\tWhat is a property decorator in Python?\n",
        "  - A property decorator in Python (written as @property) is used to turn a method into a read-only property. It lets us access a method like a variable, without using parentheses, and is commonly used with getters and setters.\n",
        "\n",
        "14.\tWhy is polymorphism important in OOP?\n",
        "  - Polymorphism is important in OOP because it allows one function or method to work with different types of objects. It makes the code more flexible, reusable, and easier to maintain, as the same interface can be used for different data types or classes.\n",
        "\n",
        "15.\tWhat is an abstract class in Python?\n",
        "  - An abstract class in Python is a class that cannot be used to create objects directly. It is used as a base class and may have one or more abstract methods (methods without code). We use the abc module and @abstractmethod to define it.\n",
        "\n",
        "16.\tWhat are the advantages of OOP?\n",
        "\n",
        "  a)\tCode Reusability: using inheritance.\n",
        "  b)\tEasy to Manage: code is organized in classes and objects.\n",
        "  c)\tData Protection: through encapsulation.\n",
        "  d)\tFlexibility: using polymorphism.\n",
        "  e)\tReal-world Modelling: using objects that represent real things.\n",
        "\n",
        "17.\tWhat is the difference between a class variable and an instance variable?\n",
        "  - A class variable is shared by all objects of the class. It is defined inside the class but outside any method. An instance variable is unique to each object. It is defined inside a method, usually inside the __init__() method using self.\n",
        "\n",
        "18.\tWhat is multiple inheritance in Python?\n",
        "  - Multiple inheritance in Python means a class can inherit from more than one parent class. This allows the child class to use the features of all parent classes. Python supports multiple inheritance using commas in the class definition.\n",
        "\n",
        "19.\tExplain the purpose of __str__ and __repr__ methods in Python.\n",
        "  - __str__() is used to return a user-friendly string when we print an object. __repr__() is used to return a detailed string for developers that can help in debugging. If __str__() is not defined, Python will use __repr__() by default.\n",
        "\n",
        "20.\tWhat is the significance of the super() function in Python?\n",
        "  - The super() function in Python is used to call methods from the parent class. It is mainly used in inheritance to access the parent class’s methods or constructor, helping to avoid repeating code and making it easier to extend classes.\n",
        "\n",
        "21.\tWhat is the significance of the __del__ method in Python?\n",
        "  - The __del__ method in Python is a special method called a destructor. It is called automatically when an object is deleted. It is used to clean up resources like closing files or releasing memory when the object is no longer needed.\n",
        "\n",
        "22.\tWhat is the difference between @staticmethod and @classmethod in Python?\n",
        "  - @staticmethod defines a method that does not need access to the class or object. It has no self or cls parameter. @classmethod defines a method that works with the class itself and takes cls as the first argument. So, use @staticmethod for utility methods, and @classmethod to change or use class-level data.\n",
        "\n",
        "23.\tHow does polymorphism work in Python with inheritance?\n",
        "  - Polymorphism works in Python with inheritance by allowing child classes to have methods with the same name as in the parent class, but with different behavior. When we call the method using a parent class reference, Python runs the child class’s version of the method.\n",
        "\n",
        "24.\tWhat is method chaining in Python OOP?\n",
        "  - Method chaining in Python OOP means calling multiple methods on the same object in a single line, one after another. This is done by returning self from each method. It makes the code shorter and more readable. Example: obj.method1().method2().method3()\n",
        "\n",
        "25.\tWhat is the purpose of the __call__ method in Python?\n",
        "  - The __call__ method in Python allows an object to be called like a function. When we use object(), Python runs the object's __call__() method. It is used to make objects behave like functions and adds flexibility to class behavior.\n",
        "\n",
        "\n",
        "\n",
        "\n"
      ],
      "metadata": {
        "id": "ZJH6Eynjj309"
      }
    },
    {
      "cell_type": "markdown",
      "source": [
        "# Python OOPS (Practical)"
      ],
      "metadata": {
        "id": "QoLzvTvlj7oG"
      }
    },
    {
      "cell_type": "code",
      "source": [
        "#  Create a parent class Animal with a method speak() that prints a generic message. Create a child class Dog that overrides the speak() method to print \"Bark!\".\n",
        "class Animal:\n",
        "    def speak(self):\n",
        "        print(\"The animal makes a sound.\")\n",
        "class Dog(Animal):\n",
        "    def speak(self):\n",
        "        print(\"Bark!\")\n",
        "a = Animal()\n",
        "a.speak()\n",
        "d = Dog()\n",
        "d.speak()\n"
      ],
      "metadata": {
        "id": "Umob3DFSoiUA",
        "colab": {
          "base_uri": "https://localhost:8080/"
        },
        "outputId": "fe33d59e-4139-4d71-d992-67a30724aa33"
      },
      "execution_count": 1,
      "outputs": [
        {
          "output_type": "stream",
          "name": "stdout",
          "text": [
            "The animal makes a sound.\n",
            "Bark!\n"
          ]
        }
      ]
    },
    {
      "cell_type": "code",
      "source": [
        "# Write a program to create an abstract class Shape with a method area(). Derive classes Circle and Rectangle from it and implement the area() method in both.\n",
        "from abc import ABC, abstractmethod\n",
        "import math\n",
        "class Shape(ABC):\n",
        "    @abstractmethod\n",
        "    def area(self):\n",
        "        pass\n",
        "class Circle(Shape):\n",
        "    def __init__(self, radius):\n",
        "        self.radius = radius\n",
        "    def area(self):\n",
        "        return math.pi * self.radius * self.radius\n",
        "class Rectangle(Shape):\n",
        "    def __init__(self, length, width):\n",
        "        self.length = length\n",
        "        self.width = width\n",
        "    def area(self):\n",
        "        return self.length * self.width\n",
        "c = Circle(5)\n",
        "print(\"Area of Circle:\", c.area())\n",
        "r = Rectangle(4, 6)\n",
        "print(\"Area of Rectangle:\", r.area())\n"
      ],
      "metadata": {
        "id": "nEeZ7LjljtYx",
        "colab": {
          "base_uri": "https://localhost:8080/"
        },
        "outputId": "ee860b3d-2faa-4f77-f864-3d282a258ff8"
      },
      "execution_count": 2,
      "outputs": [
        {
          "output_type": "stream",
          "name": "stdout",
          "text": [
            "Area of Circle: 78.53981633974483\n",
            "Area of Rectangle: 24\n"
          ]
        }
      ]
    },
    {
      "cell_type": "code",
      "source": [
        "#  Implement a multi-level inheritance scenario where a class Vehicle has an attribute type. Derive a class Car and further derive a class ElectricCar that adds a battery attribute.\n",
        "class Vehicle:\n",
        "    def __init__(self, vehicle_type):\n",
        "        self.type = vehicle_type\n",
        "class Car(Vehicle):\n",
        "    def __init__(self, vehicle_type, brand):\n",
        "        super().__init__(vehicle_type)\n",
        "        self.brand = brand\n",
        "class ElectricCar(Car):\n",
        "    def __init__(self, vehicle_type, brand, battery):\n",
        "        super().__init__(vehicle_type, brand)\n",
        "        self.battery = battery\n",
        "    def display_info(self):\n",
        "        print(f\"Type: {self.type}\")\n",
        "        print(f\"Brand: {self.brand}\")\n",
        "        print(f\"Battery: {self.battery} kWh\")\n",
        "\n",
        "ecar = ElectricCar(\"4-wheeler\", \"Tata Harrier\", 65)\n",
        "ecar.display_info()"
      ],
      "metadata": {
        "id": "PdHAi408pUWW",
        "colab": {
          "base_uri": "https://localhost:8080/"
        },
        "outputId": "926fcafd-b159-4570-8890-acfa21a9e9ea"
      },
      "execution_count": 15,
      "outputs": [
        {
          "output_type": "stream",
          "name": "stdout",
          "text": [
            "Type: 4-wheeler\n",
            "Brand: Tata Harrier\n",
            "Battery: 65 kWh\n"
          ]
        }
      ]
    },
    {
      "cell_type": "code",
      "source": [
        "# Demonstrate polymorphism by creating a base class Bird with a method fly(). Create two derived classes Sparrow and Penguin that override the fly() method.\n",
        "class Bird:\n",
        "    def fly(self):\n",
        "        print(\"Some birds can fly.\")\n",
        "class Sparrow(Bird):\n",
        "    def fly(self):\n",
        "        print(\"Sparrow flies high in the sky.\")\n",
        "class Penguin(Bird):\n",
        "    def fly(self):\n",
        "        print(\"Penguins cannot fly but can swim well.\")\n",
        "def bird_fly_test(bird):\n",
        "    bird.fly()\n",
        "sparrow = Sparrow()\n",
        "penguin = Penguin()\n",
        "bird_fly_test(sparrow)\n",
        "bird_fly_test(penguin)"
      ],
      "metadata": {
        "id": "oTzZV3ArpUTp",
        "colab": {
          "base_uri": "https://localhost:8080/"
        },
        "outputId": "5c149133-aabb-458d-dcb7-bafbc5568089"
      },
      "execution_count": 4,
      "outputs": [
        {
          "output_type": "stream",
          "name": "stdout",
          "text": [
            "Sparrow flies high in the sky.\n",
            "Penguins cannot fly but can swim well.\n"
          ]
        }
      ]
    },
    {
      "cell_type": "code",
      "source": [
        "# Write a program to demonstrate encapsulation by creating a class BankAccount with private attributes balance and methods to deposit, withdraw, and check balance.\n",
        "class BankAccount:\n",
        "    def __init__(self, in_bal=0):\n",
        "        self.__bal = in_bal\n",
        "    def deposit(self, amount):\n",
        "        if amount > 0:\n",
        "            self.__bal += amount\n",
        "            print(f\"Deposited: ₹{amount}\")\n",
        "        else:\n",
        "            print(\"Invalid deposit amount.\")\n",
        "    def withdraw(self, amount):\n",
        "        if 0 < amount <= self.__bal:\n",
        "            self.__bal -= amount\n",
        "            print(f\"Withdrawn: ₹{amount}\")\n",
        "        else:\n",
        "            print(\"Insufficient balance or invalid amount.\")\n",
        "    def check_balance(self):\n",
        "        print(f\"Current Balance: ₹{self.__bal}\")\n",
        "\n",
        "account = BankAccount(1000)\n",
        "account.check_balance()\n",
        "account.deposit(500)\n",
        "account.withdraw(300)\n",
        "account.check_balance()"
      ],
      "metadata": {
        "id": "ITCdVEwPpUQy",
        "colab": {
          "base_uri": "https://localhost:8080/"
        },
        "outputId": "0e3b8ebc-42a8-483a-9f3e-28298680c6aa"
      },
      "execution_count": 5,
      "outputs": [
        {
          "output_type": "stream",
          "name": "stdout",
          "text": [
            "Current Balance: ₹1000\n",
            "Deposited: ₹500\n",
            "Withdrawn: ₹300\n",
            "Current Balance: ₹1200\n"
          ]
        }
      ]
    },
    {
      "cell_type": "code",
      "source": [
        "# Demonstrate runtime polymorphism using a method play() in a base class Instrument. Derive classes Guitar and Piano that implement their own version of play().\n",
        "class Instrument:\n",
        "    def play(self):\n",
        "        print(\"Playing an instrument.\")\n",
        "class Guitar(Instrument):\n",
        "    def play(self):\n",
        "        print(\"Strumming the guitar.\")\n",
        "class Piano(Instrument):\n",
        "    def play(self):\n",
        "        print(\"Playing the piano.\")\n",
        "def start_playing(instrument):\n",
        "    instrument.play()\n",
        "\n",
        "g = Guitar()\n",
        "p = Piano()\n",
        "start_playing(g)\n",
        "start_playing(p)"
      ],
      "metadata": {
        "id": "BdCrsJIYpUN1",
        "colab": {
          "base_uri": "https://localhost:8080/"
        },
        "outputId": "15e07b1d-4a9b-4d0f-d3a5-138a5fa90e14"
      },
      "execution_count": 6,
      "outputs": [
        {
          "output_type": "stream",
          "name": "stdout",
          "text": [
            "Strumming the guitar.\n",
            "Playing the piano.\n"
          ]
        }
      ]
    },
    {
      "cell_type": "code",
      "source": [
        "# Create a class MathOperations with a class method add_numbers() to add two numbers and a static method subtract_numbers() to subtract two numbers.\n",
        "class MathOperations:\n",
        "    @classmethod\n",
        "    def add_numbers(cls, a, b):\n",
        "        return a + b\n",
        "    @staticmethod\n",
        "    def subtract_numbers(a, b):\n",
        "        return a - b\n",
        "print(\"Addition: \", MathOperations.add_numbers(10, 5))\n",
        "print(\"Subtraction: \", MathOperations.subtract_numbers(10, 5))\n"
      ],
      "metadata": {
        "id": "6R4b0BonpUKh",
        "colab": {
          "base_uri": "https://localhost:8080/"
        },
        "outputId": "55476226-5b3a-4aaa-e376-7f23b494c401"
      },
      "execution_count": 10,
      "outputs": [
        {
          "output_type": "stream",
          "name": "stdout",
          "text": [
            "Addition:  15\n",
            "Subtraction:  5\n"
          ]
        }
      ]
    },
    {
      "cell_type": "code",
      "source": [
        "# Implement a class Person with a class method to count the total number of persons created.\n",
        "class Person:\n",
        "    count = 0\n",
        "    def __init__(self, name):\n",
        "        self.name = name\n",
        "        Person.count += 1\n",
        "    @classmethod\n",
        "    def total_persons(cls):\n",
        "        return cls.count\n",
        "p1 = Person(\"Debasis\")\n",
        "p2 = Person(\"Das\")\n",
        "p3 = Person(\"Ricky\")\n",
        "print(\"Total persons created:\", Person.total_persons())"
      ],
      "metadata": {
        "id": "kA2CFPm9pUEf",
        "colab": {
          "base_uri": "https://localhost:8080/"
        },
        "outputId": "e194b5cf-5e74-4979-bb65-d5ebb3dfcc0a"
      },
      "execution_count": 11,
      "outputs": [
        {
          "output_type": "stream",
          "name": "stdout",
          "text": [
            "Total persons created: 3\n"
          ]
        }
      ]
    },
    {
      "cell_type": "code",
      "source": [
        "# Write a class Fraction with attributes numerator and denominator. Override the str method to display the fraction as \"numerator/denominator\".\n",
        "class Fraction:\n",
        "    def __init__(self, numerator, denominator):\n",
        "        self.numerator = numerator\n",
        "        self.denominator = denominator\n",
        "    def __str__(self):\n",
        "        return f\"{self.numerator}/{self.denominator}\"\n",
        "f = Fraction(3, 4)\n",
        "print(f)"
      ],
      "metadata": {
        "id": "PKwW-CSEpT64",
        "colab": {
          "base_uri": "https://localhost:8080/"
        },
        "outputId": "39f97267-4978-406f-888e-d9a2498bac20"
      },
      "execution_count": 12,
      "outputs": [
        {
          "output_type": "stream",
          "name": "stdout",
          "text": [
            "3/4\n"
          ]
        }
      ]
    },
    {
      "cell_type": "code",
      "source": [
        "# Demonstrate operator overloading by creating a class Vector and overriding the add method to add two vectors.\n",
        "class Vector:\n",
        "    def __init__(self, x, y):\n",
        "        self.x = x\n",
        "        self.y = y\n",
        "    def __add__(self, other):\n",
        "        return Vector(self.x + other.x, self.y + other.y)\n",
        "    def __str__(self):\n",
        "        return f\"({self.x}, {self.y})\"\n",
        "v1 = Vector(2, 3)\n",
        "v2 = Vector(4, 5)\n",
        "v3 = v1 + v2\n",
        "print(\"Result of vector addition:\", v3)"
      ],
      "metadata": {
        "id": "xvTuNjuupT3m",
        "colab": {
          "base_uri": "https://localhost:8080/"
        },
        "outputId": "713ffad4-a7d6-40dd-c921-ea072e53696a"
      },
      "execution_count": 13,
      "outputs": [
        {
          "output_type": "stream",
          "name": "stdout",
          "text": [
            "Result of vector addition: (6, 8)\n"
          ]
        }
      ]
    },
    {
      "cell_type": "code",
      "source": [
        "# Create a class Person with attributes name and age. Add a method greet() that prints \"Hello, my name is {name} and I am {age} years old.\"\n",
        "class Person:\n",
        "    def __init__(self, name, age):\n",
        "        self.name = name\n",
        "        self.age = age\n",
        "\n",
        "    def greet(self):\n",
        "        print(f\"Hello, my name is {self.name} and I am {self.age} years old.\")\n",
        "\n",
        "# Example usage\n",
        "p = Person(\"Debasis Das\", 24)\n",
        "p.greet()"
      ],
      "metadata": {
        "id": "skFlrrV-pT0A",
        "colab": {
          "base_uri": "https://localhost:8080/"
        },
        "outputId": "abeabe9b-99c2-4320-db7d-52bfd4eb85f8"
      },
      "execution_count": 14,
      "outputs": [
        {
          "output_type": "stream",
          "name": "stdout",
          "text": [
            "Hello, my name is Debasis Das and I am 24 years old.\n"
          ]
        }
      ]
    },
    {
      "cell_type": "code",
      "source": [
        "# Implement a class Student with attributes name and grades. Create a method average_grade() to compute the average of the grades.\n",
        "class Student:\n",
        "    def __init__(self, name, grades):\n",
        "        self.name = name\n",
        "        self.grades = grades\n",
        "\n",
        "    def average_grade(self):\n",
        "        if self.grades:\n",
        "            return sum(self.grades) / len(self.grades)\n",
        "        else:\n",
        "            return 0\n",
        "s = Student(\"Debasis Das\", [85, 90, 78, 92])\n",
        "print(f\"Average grade of {s.name}: {s.average_grade():.2f}\")"
      ],
      "metadata": {
        "id": "rbEIEZ2rpTmV",
        "colab": {
          "base_uri": "https://localhost:8080/"
        },
        "outputId": "8121c63e-378d-4647-dd94-11c90105d88c"
      },
      "execution_count": 17,
      "outputs": [
        {
          "output_type": "stream",
          "name": "stdout",
          "text": [
            "Average grade of Debasis Das: 86.25\n"
          ]
        }
      ]
    },
    {
      "cell_type": "code",
      "execution_count": 18,
      "metadata": {
        "id": "9Lq6kwxjjodG",
        "colab": {
          "base_uri": "https://localhost:8080/"
        },
        "outputId": "d75e9958-ece2-424b-863f-f7a048613ab4"
      },
      "outputs": [
        {
          "output_type": "stream",
          "name": "stdout",
          "text": [
            "Area of Rectangle: 15\n"
          ]
        }
      ],
      "source": [
        "# Create a class Rectangle with methods set_dimensions() to set the dimensions and area() to calculate the area.\n",
        "class Rectangle:\n",
        "    def __init__(self):\n",
        "        self.length = 0\n",
        "        self.width = 0\n",
        "    def set_dimensions(self, length, width):\n",
        "        self.length = length\n",
        "        self.width = width\n",
        "    def area(self):\n",
        "        return self.length * self.width\n",
        "rect = Rectangle()\n",
        "rect.set_dimensions(5, 3)\n",
        "print(\"Area of Rectangle:\", rect.area())"
      ]
    },
    {
      "cell_type": "code",
      "source": [
        "# Create a class Employee with a method calculate_salary() that computes the salary based on hours worked and hourly rate. Create a derived class Manager that adds a bonus to the salary.\n",
        "class Employee:\n",
        "    def __init__(self, name, hr_worked, hr_rate):\n",
        "        self.name = name\n",
        "        self.hr_worked = hr_worked\n",
        "        self.hr_rate = hr_rate\n",
        "    def calculate_salary(self):\n",
        "        return self.hr_worked * self.hr_rate\n",
        "class Manager(Employee):\n",
        "    def __init__(self, name, hr_worked, hr_rate, bonus):\n",
        "        super().__init__(name, hr_worked, hr_rate)\n",
        "        self.bonus = bonus\n",
        "    def calculate_salary(self):\n",
        "        base_salary = super().calculate_salary()\n",
        "        return base_salary + self.bonus\n",
        "emp = Employee(\"Ricky\", 40, 200)\n",
        "print(f\"{emp.name}'s Salary: {emp.calculate_salary()}₹\")\n",
        "mgr = Manager(\"Rahul\", 40, 200, 3000)\n",
        "print(f\"{mgr.name}'s Salary: {mgr.calculate_salary()}₹\")"
      ],
      "metadata": {
        "id": "x1QQl9kgqy_C",
        "colab": {
          "base_uri": "https://localhost:8080/"
        },
        "outputId": "aacab149-46f7-462e-9f62-0991a7c31add"
      },
      "execution_count": 21,
      "outputs": [
        {
          "output_type": "stream",
          "name": "stdout",
          "text": [
            "Ricky's Salary: 8000₹\n",
            "Rahul's Salary: 11000₹\n"
          ]
        }
      ]
    },
    {
      "cell_type": "code",
      "source": [
        "# Create a class Product with attributes name, price, and quantity. Implement a method total_price() that calculates the total price of the product.\n",
        "class Product:\n",
        "    def __init__(self, name, price, quantity):\n",
        "        self.name = name\n",
        "        self.price = price\n",
        "        self.quantity = quantity\n",
        "    def total_price(self):\n",
        "        return self.price * self.quantity\n",
        "p = Product(\"Laptop\", 50000, 2)\n",
        "print(f\"Total price for {p.name}: {p.total_price()}₹\")"
      ],
      "metadata": {
        "id": "sJSk3TM9q4xy",
        "colab": {
          "base_uri": "https://localhost:8080/"
        },
        "outputId": "dbc2a146-eed9-40b3-8cbc-7d907aea4ddd"
      },
      "execution_count": 23,
      "outputs": [
        {
          "output_type": "stream",
          "name": "stdout",
          "text": [
            "Total price for Laptop: 100000₹\n"
          ]
        }
      ]
    },
    {
      "cell_type": "code",
      "source": [
        "# Create a class Animal with an abstract method sound(). Create two derived classes Cow and Sheep that implement the sound() method.\n",
        "from abc import ABC, abstractmethod\n",
        "class Animal(ABC):\n",
        "    @abstractmethod\n",
        "    def sound(self):\n",
        "        pass\n",
        "class Cow(Animal):\n",
        "    def sound(self):\n",
        "        print(\"Cow says Moo!\")\n",
        "class Sheep(Animal):\n",
        "    def sound(self):\n",
        "        print(\"Sheep says Baa!\")\n",
        "c = Cow()\n",
        "s = Sheep()\n",
        "c.sound()\n",
        "s.sound()"
      ],
      "metadata": {
        "id": "9xPoxWthqyxV",
        "colab": {
          "base_uri": "https://localhost:8080/"
        },
        "outputId": "3bc4cacd-5845-4ba0-c494-0edf03d726e3"
      },
      "execution_count": 24,
      "outputs": [
        {
          "output_type": "stream",
          "name": "stdout",
          "text": [
            "Cow says Moo!\n",
            "Sheep says Baa!\n"
          ]
        }
      ]
    },
    {
      "cell_type": "code",
      "source": [
        "# Create a class Book with attributes title, author, and year_published. Add a method get_book_info() that returns a formatted string with the book's details.\n",
        "class Book:\n",
        "    def __init__(self, title, author, year_published):\n",
        "        self.title = title\n",
        "        self.author = author\n",
        "        self.year_published = year_published\n",
        "    def get_book_info(self):\n",
        "        return f\"Title: {self.title}, Author: {self.author}, Year: {self.year_published}\"\n",
        "book = Book(\"Machine Learning\", \"Dr. Rajiv Chopra\", 2017)\n",
        "print(book.get_book_info())\n"
      ],
      "metadata": {
        "id": "vU9vgZ0Iqyju",
        "colab": {
          "base_uri": "https://localhost:8080/"
        },
        "outputId": "d0e920e1-7c37-4e0c-f13c-3f35c6017e49"
      },
      "execution_count": 25,
      "outputs": [
        {
          "output_type": "stream",
          "name": "stdout",
          "text": [
            "Title: Machine Learning, Author: Dr. Rajiv Chopra, Year: 2017\n"
          ]
        }
      ]
    },
    {
      "cell_type": "code",
      "source": [
        "# Create a class House with attributes address and price. Create a derived class Mansion that adds an attribute number_of_rooms.\n",
        "class House:\n",
        "    def __init__(self, address, price):\n",
        "        self.address = address\n",
        "        self.price = price\n",
        "class Mansion(House):\n",
        "    def __init__(self, address, price, number_of_rooms):\n",
        "        super().__init__(address, price)\n",
        "        self.number_of_rooms = number_of_rooms\n",
        "    def display_info(self):\n",
        "        print(f\"Address: {self.address}\")\n",
        "        print(f\"Price: ₹{self.price}\")\n",
        "        print(f\"Number of Rooms: {self.number_of_rooms}\")\n",
        "m = Mansion(\"26, Purusottampur, Satyabhamapur, Cuttack\", 500000000, 15)\n",
        "m.display_info()"
      ],
      "metadata": {
        "id": "2kUo-ihSqyW-",
        "colab": {
          "base_uri": "https://localhost:8080/"
        },
        "outputId": "6e9afcd2-2bc3-4966-edeb-9c8cacfec7b0"
      },
      "execution_count": 27,
      "outputs": [
        {
          "output_type": "stream",
          "name": "stdout",
          "text": [
            "Address: 26, Purusottampur, Satyabhamapur, Cuttack\n",
            "Price: ₹500000000\n",
            "Number of Rooms: 15\n"
          ]
        }
      ]
    }
  ]
}